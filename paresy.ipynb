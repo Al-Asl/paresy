{
  "nbformat": 4,
  "nbformat_minor": 0,
  "metadata": {
    "colab": {
      "provenance": [],
      "machine_shape": "hm",
      "include_colab_link": true
    },
    "kernelspec": {
      "name": "python3",
      "display_name": "Python 3"
    },
    "language_info": {
      "name": "python"
    },
    "gpuClass": "premium",
    "accelerator": "GPU"
  },
  "cells": [
    {
      "cell_type": "markdown",
      "metadata": {
        "id": "view-in-github",
        "colab_type": "text"
      },
      "source": [
        "<a href=\"https://colab.research.google.com/github/MojtabaValizadeh/paresy/blob/master/paresy.ipynb\" target=\"_parent\"><img src=\"https://colab.research.google.com/assets/colab-badge.svg\" alt=\"Open In Colab\"/></a>"
      ]
    },
    {
      "cell_type": "markdown",
      "source": [
        "<div class=\"markdown-google-sans\">\n",
        "<h1><strong>PaRESy</strong></h1>\n",
        "</div>\n",
        "\n",
        "<div class=\"markdown-google-sans\">\n",
        "<h1>Parallel Regular Expression Synthesiser</h1>\n",
        "</div>\n",
        "\n"
      ],
      "metadata": {
        "id": "uc6u6BamzvlC"
      }
    },
    {
      "cell_type": "markdown",
      "source": [
        "This notebook contains the code and other artifacts for the  paper\n",
        "\n",
        "> **Search-Based Regular Expression Inference on a GPU**\n",
        "\n",
        "by Mojtaba Valizadeh and Martin Berger. A draft of the paper is available at [here](https://users.sussex.ac.uk/~mfb21/pldi23.pdf)."
      ],
      "metadata": {
        "id": "vNZTmGhBpnbz"
      }
    },
    {
      "cell_type": "markdown",
      "source": [
        "# <strong>Introduction</strong>\n",
        "\n",
        "Welcome to our Colab notebook.\n",
        "\n",
        "In this work, the goal is to find a `precise` and `minimal` regular expression (RE) that accepts a given set of positive strings and rejects a given set of negative ones. To accomplish this, we developed an algorithm called `PaRESy`, which is implemented in two codes: one for CPU using C++, and another for GPU using Cuda C++. By doing this, we could measure the speed-up for the most challenging examples.\n",
        "\n",
        "In this version of the work, we use a simple grammar for the REs:\n",
        "\n",
        "```\n",
        "R ::= Φ|ε|a|R?|R*|R.R|R+R\n",
        "```\n",
        "Regarding the minimality, we need to use a cost function that maps every constructor in the RE to a positive integer. By summing up the costs of all the constructors, we can obtain the overall cost of the RE. This cost function helps us to avoid overfitting and returning the trivial RE that is the union of the positive strings.\n",
        "\n",
        "**Example:**\n",
        "- Positive: [`\"\"`, `\"010\"`, `\"1000\"`, `\"0101\"`, `\"1010\"`, `\"0010\"`]\n",
        "- Negative: [`\"001\"`, `\"1011\"`, `\"111\"`]\n",
        "\n",
        "**Note:** In this work, we use `\"\"` to represent the `epsilon (ε)` as the empty string.\n",
        "\n",
        "We aim to find a regular expression (RE) that accepts all strings in the positive set and rejects all strings in the negative set. However, there could be an infinite number of such REs, and we want to identify the minimal one based on a given cost function. This cost function assigns positive integers to each constructor, including the `alphabet`, `question mark`, `star`, `concatenation`, and `union`. Let us assume that the costs of these constructors are given as [`c1`, `c2`, `c3`, `c4`, `c5`]. Based on the different costs, we can generate various REs, as follows.\n",
        "\n",
        "-   [`1`, `1`, `1`, `1`, `1`]   --->    `(0+101?)*`\n",
        "-   [`1`, `5`, `1`, `1`, `5`]   --->    `(01)*(1*0)*`\n",
        "\n",
        "**Note:** In this work, we use the `+` symbol to represent the `union` constructor, which is commonly denoted by `|` in standard libraries.\n",
        "\n",
        "In this simple example, both REs are `precise` (i.e., accepts all positive and rejects all negative examples) and `minimal` w.r.t their own cost functions. We can observe that by increasing the costs of `question mark` and `union` in the second cost function, the resulting RE contains fewer instances of these constructors. However, to compensate for this, the regular expression tends to use more stars, which are cheaper in this particular cost function."
      ],
      "metadata": {
        "id": "4Mk5QOFq4NPC"
      }
    },
    {
      "cell_type": "markdown",
      "source": [
        "# <strong>Initialization</strong>\n",
        "\n",
        "To begin, please run the code below to transfer all of the necessary requirements, including the codes, dependencies, benchmarks, etc, to this notebook. **Note:** The code that was initially submitted to PLDI 2023 is now available using the tag `v0.1`. Once you run the script, you will see a message prompting you to select a version to use. To reproduce the data presented in the paper, please choose the `Initial Version` option in the script. Otherwise, leave it as it is and the script will clone the latest version of the work by default."
      ],
      "metadata": {
        "id": "HQsl6fp_Msm9"
      }
    },
    {
      "cell_type": "code",
      "source": [
        "import os\n",
        "import ipywidgets as widgets\n",
        "from IPython.display import clear_output\n",
        "from IPython.display import HTML, display\n",
        "\n",
        "if not os.path.isdir(\"/content/paresy\"):\n",
        "\n",
        "    question = \"Please specify which version of the code you would prefer to use:\"\n",
        "    options = [\"Initial Version (v0.1)\", \"Latest Version\"]\n",
        "\n",
        "    def check_answer(b):\n",
        "        user_answer = option_radio_buttons.value\n",
        "        clear_output()\n",
        "        ! git config --global advice.detachedHead false\n",
        "        if user_answer == \"Latest Version\":\n",
        "            ! git clone https://github.com/MojtabaValizadeh/paresy.git\n",
        "        else:\n",
        "            ! git clone --branch v0.1 https://github.com/MojtabaValizadeh/paresy.git\n",
        "        print()\n",
        "        print(\"Done\")\n",
        "\n",
        "    display(HTML(f\"<h2>{question}</h2>\"))\n",
        "    option_radio_buttons = widgets.RadioButtons(options = options, description = '', value = \"Latest Version\", disabled = False)\n",
        "    display(option_radio_buttons)\n",
        "    button = widgets.Button(description=\"Clone the repo\")\n",
        "    button.on_click(check_answer)\n",
        "    display(button)\n",
        "\n",
        "else:\n",
        "    print(\"A repository already exists!\")\n",
        "    print(\"If you would like to use a different version of the work, please disconnect first from:\")\n",
        "    print(\"Runtime > Disconnect and delete runtime\")\n",
        "    print(\"Then please run this script again.\")"
      ],
      "metadata": {
        "id": "2j2zH9KoQ8Pb"
      },
      "execution_count": null,
      "outputs": []
    },
    {
      "cell_type": "markdown",
      "source": [
        "# <strong>GPU version of the algorithm</strong>\n",
        "\n",
        "**Important:** To optimize memory and performance, we recommend upgrading your Colab to `Pro` or `Pro+` versions. These paid versions offer larger memory limits, faster processing speeds, and advanced hardware acceleration, enabling users to execute complex operations with greater efficiency. By contrast, the `free version` of Colab may be subject to limitations that can impact the performance and accuracy of the following tasks.\n",
        "\n",
        "**To upgrade to Colab Pro:**\n",
        "\n",
        "- Find the `Colab Pro` tab in `Tools > Settings`.\n",
        "- Choose your desired plan: `Colab Pro` or `Colab Pro+`.\n",
        "- Follow the prompts to enter your billing information and complete the purchase process.\n",
        "\n",
        "**Note:** Colab Pro is billed on a monthly basis, and you can cancel at any time. Additionally, some countries or regions may not be eligible to purchase Colab Pro at this time, so you may need to check if it is available in your area before proceeding.\n",
        "\n",
        "**Note:** To run a cell in Colab, you can either click on the \"play\" button located on the left side of the cell, or you can press \"Shift+Enter\" on your keyboard while the cell is selected.\n",
        "\n",
        "To check if the notebook is connected to the GPU, please run the following command."
      ],
      "metadata": {
        "id": "vYp2_P4nEgig"
      }
    },
    {
      "cell_type": "code",
      "source": [
        "gpu_info = !nvidia-smi\n",
        "gpu_info = '\\n'.join(gpu_info)\n",
        "if gpu_info.find('failed') >= 0:\n",
        "  print('Not connected to a GPU')\n",
        "  print(\"At 'Runtime > Change runtime type', please choose `GPU` for `Hardware accelerator`\")\n",
        "else:\n",
        "  print(gpu_info)"
      ],
      "metadata": {
        "id": "ZRS_i0zoJs0e",
        "cellView": "code"
      },
      "execution_count": null,
      "outputs": []
    },
    {
      "cell_type": "markdown",
      "source": [
        "For optimal performance, please ensure that the GPU you are currently connected to is `NVIDIA A100-SXM` or any better GPUs. You can find it at the middle of the table. To ensure that we are using `high-RAM`, please run the following script."
      ],
      "metadata": {
        "id": "OtEnxc-MJskU"
      }
    },
    {
      "cell_type": "code",
      "source": [
        "from psutil import virtual_memory\n",
        "\n",
        "ram_gb = virtual_memory().total / 1e9\n",
        "print('Your runtime has {:.1f} gigabytes of available RAM'.format(ram_gb))\n",
        "\n",
        "if ram_gb < 20:\n",
        "  print('Not using a high-RAM runtime!')\n",
        "else:\n",
        "  print('Great! You are using a high-RAM runtime!')"
      ],
      "metadata": {
        "id": "9ycRU7cyJsVv"
      },
      "execution_count": null,
      "outputs": []
    },
    {
      "cell_type": "markdown",
      "source": [
        "**Note:** If you encounter any issues, you can adjust the settings from 'Edit > Notebook settings' or 'Runtime > Change runtime type'. Then set\n",
        "\n",
        "- `GPU` for Hardware accelerator\n",
        "- `Premium` or `A100` for GPU class/type\n",
        "- `High RAM` for Runtime shape\n",
        "\n",
        "then press `save`."
      ],
      "metadata": {
        "id": "f6hWXUfviri6"
      }
    },
    {
      "cell_type": "markdown",
      "source": [
        "<div class=\"markdown-google-sans\">\n",
        "<h1>Compiling the GPU code</h1>\n",
        "</div>\n",
        "\n",
        "To compile and run the GPU code, please run the following scripts.\n",
        "\n",
        "**NOTE:** You can add `-D MEASUREMENT_MODE` to measure the running time instead of printing logs."
      ],
      "metadata": {
        "id": "NGEeQhvJ2HiU"
      }
    },
    {
      "cell_type": "code",
      "source": [
        "import os\n",
        "if not os.path.isdir(\"/content/paresy\"):\n",
        "    ! git clone https://github.com/MojtabaValizadeh/paresy.git\n",
        "! nvcc --extended-lambda -I /content/paresy/code/gpu_version/modified_libraries /content/paresy/code/gpu_version/gpu126.cu -o gpu126\n",
        "print (\"Done\")"
      ],
      "metadata": {
        "id": "e-MX4I9AuSwB"
      },
      "execution_count": null,
      "outputs": []
    },
    {
      "cell_type": "markdown",
      "source": [
        "<div class=\"markdown-google-sans\">\n",
        "<h1>Running the GPU code</h1>\n",
        "</div>\n",
        "\n",
        "Generally, you can use\n",
        "```\n",
        "! ./gpu126 <input_file_address> <c1> <c2> <c3> <c4> <c5> <maxCost>\n",
        "```\n",
        "where\n",
        "1. `input_file_address` refers to the address of the input file that contains your positive and negative examples.\n",
        "2. (`c1`, `c2`, `c3`, `c4`, `c5`) are 5 small positive integers for the costs of (a, ?, *, ., +)\n",
        "3. `maxCost` parameter is an integer that sets an upper limit on the cost of the regular expression that the algorithm will search for. In most cases, you can use a reasonably large integer, such as 500, which is appropriate for our cost functions.\n",
        "\n",
        "For example, to run the first example of `type1` in our benchmarks, use the code below."
      ],
      "metadata": {
        "id": "TMivbwaL1bjk"
      }
    },
    {
      "cell_type": "code",
      "source": [
        "# Check if connected to GPU\n",
        "gpu_info = !nvidia-smi\n",
        "gpu_info = '\\n'.join(gpu_info)\n",
        "if gpu_info.find('failed') >= 0:\n",
        "  print('Not connected to a GPU')\n",
        "  print(\"At 'Runtime > Change runtime type', please choose `GPU` for `Hardware accelerator`\")\n",
        "else:\n",
        "    ! ./gpu126 /content/paresy/benchmarks/type1/type1_exp1.txt 1 1 1 1 1 500"
      ],
      "metadata": {
        "id": "imqHt467vDR8"
      },
      "execution_count": null,
      "outputs": []
    },
    {
      "cell_type": "markdown",
      "source": [
        "<div class=\"markdown-google-sans\">\n",
        "<h1>Tips for utilizing arbitrary input</h1>\n",
        "</div>\n",
        "\n",
        "In order to create an input file using your arbitrary positive and negative sets, you can use the following script. It generates an `input` text file in the `content` directory.\n",
        "\n",
        "**Note:** You can modify the `pos` and `neg` in the following script to create your own input. After running the script once, you can easily edit the `input` text file located in the `content` directory to create your next desired input.\n",
        "\n",
        "**Note:** To see the content in Colab, you can open the file explorer by clicking on the folder icon on the left side of the Colab notebook interface. You can navigate through the folders and subfolders to find the file you want to see.\n",
        "\n",
        "Now, please run the follwing script."
      ],
      "metadata": {
        "id": "JrBZAztZow7B"
      }
    },
    {
      "cell_type": "code",
      "source": [
        "def makeInputFile(pos, neg):\n",
        "    f = open(\"input.txt\", 'w')\n",
        "    f.write(\"Exp\\n\")\n",
        "    f.write(\"++\")\n",
        "    for p in pos:\n",
        "        f.write(\"\\n\")\n",
        "        f.write(\"\\\"\" + str(p) + \"\\\"\")\n",
        "    f.write(\"\\n--\")\n",
        "    for n in neg:\n",
        "        f.write(\"\\n\")\n",
        "        f.write(\"\\\"\" + str(n) + \"\\\"\")\n",
        "    f.close()\n",
        "    print(\"Done\")\n",
        "\n",
        "pos = [\"10\", \"101\", \"100\", \"1010\", \"1011\", \"1000\", \"1001\"]\n",
        "neg = [\"\", \"0\", \"1\", \"00\", \"11\", \"010\"]\n",
        "\n",
        "makeInputFile(pos, neg)"
      ],
      "metadata": {
        "id": "Wp0PH1HVqOZM"
      },
      "execution_count": null,
      "outputs": []
    },
    {
      "cell_type": "markdown",
      "source": [
        "The script creates an `input.txt` text file in the `content` directory. Please take a look at this file. Here are some brief notes:\n",
        "\n",
        "- To indicate positive and negative sets, we use \"++\" and \"--\", respectively. You can include or exclude quotation marks around your strings, and the algorithm will ignore any spaces in the strings to avoid potential issues. \n",
        "\n",
        "- To indicate `epsilon (ε)` as the empty string, you can use \"\" in your positive or negative sets. Using any extra symbols will be considered as a new alphabet.\n",
        "\n",
        "- Our algorithm can handle larger alphabets, and any mistakes in the input can make the search space much bigger. So, please create/modify the input file carefully.\n",
        "\n",
        "- The current version of the code supports inputs where `infix-closure(Pos u Neg) <= 126 bits` (For more information, please refer to our paper). Overall, if you exceed the limit, the algorithm will notify you. To resolve this issue, please try to shorten your strings, especially the longer ones.\n",
        "\n",
        "- We use a uniform cost funtion (`1 1 1 1 1` in this case) to indicate the cost of each `alphabet`, `questions mark`, `star`, `concatenation` and `union` respectively. If one constructor has a higher cost (i.e. is more expensive) than the others, it means that the resulting regular expression may have fewer elements from that constructor. For additional examples, please refer to Section 3 of the paper.\n",
        "\n",
        "- the last integer (`500` in this example) shows the maximum cost of the search. You can leave it like this or use a reasonable big integer for your cost function.\n",
        "\n",
        "Try using your own input (by modifying the `input.txt` file) and your own cost function, and run the code with the following script."
      ],
      "metadata": {
        "id": "mvct497zwtPZ"
      }
    },
    {
      "cell_type": "code",
      "source": [
        "# Check if connected to GPU\n",
        "gpu_info = !nvidia-smi\n",
        "gpu_info = '\\n'.join(gpu_info)\n",
        "if gpu_info.find('failed') >= 0:\n",
        "  print('Not connected to a GPU')\n",
        "  print(\"At 'Runtime > Change runtime type', please choose `GPU` for `Hardware accelerator`\")\n",
        "else:\n",
        "    ! ./gpu126 ./input.txt 1 1 1 1 1 500"
      ],
      "metadata": {
        "id": "RFJjB50R2ui8"
      },
      "execution_count": null,
      "outputs": []
    },
    {
      "cell_type": "markdown",
      "source": [
        "# <strong>CPU version of the algorithm</strong>"
      ],
      "metadata": {
        "id": "pZ2xgrOp3Dcs"
      }
    },
    {
      "cell_type": "markdown",
      "source": [
        "Google Colab might use different CPUs at different times. This is because Colab is a cloud-based platform that relies on Google's infrastructure to run its operations. If you need, to compare the CPU specifications used in our paper with the current CPU in this notebook, you can run the following script:"
      ],
      "metadata": {
        "id": "12uh3mg30Dke"
      }
    },
    {
      "cell_type": "code",
      "source": [
        "!cat /proc/cpuinfo"
      ],
      "metadata": {
        "id": "IZtTb1ge0acU"
      },
      "execution_count": null,
      "outputs": []
    },
    {
      "cell_type": "markdown",
      "source": [
        "<div class=\"markdown-google-sans\">\n",
        "<h1>Compiling the CPU code</h1>\n",
        "</div>\n",
        "\n",
        "To compile and run the CPU version of our algorithm, please run the following scripts.\n",
        "\n",
        "**NOTE:** You can add `-D MEASUREMENT_MODE` to measure the running time instead of printing logs."
      ],
      "metadata": {
        "id": "d-gO2OQv3MsQ"
      }
    },
    {
      "cell_type": "code",
      "source": [
        "import os\n",
        "if not os.path.isdir(\"/content/paresy\"):\n",
        "    ! git clone https://github.com/MojtabaValizadeh/paresy.git\n",
        "! g++ -O3 /content/paresy/code/cpu_version/cpu128.cpp -o cpu128\n",
        "print (\"Done\")"
      ],
      "metadata": {
        "id": "RjsTNjdt3pcy"
      },
      "execution_count": null,
      "outputs": []
    },
    {
      "cell_type": "markdown",
      "source": [
        "<div class=\"markdown-google-sans\">\n",
        "<h1>Running the CPU code</h1>\n",
        "</div>\n",
        "\n",
        "Generally, you can use\n",
        "```\n",
        "! ./cpu128 <input_file_address> <c1> <c2> <c3> <c4> <c5> <maxCost>\n",
        "```\n",
        "where\n",
        "1. `input_file_address` refers to the address of the input file that contains your positive and negative examples.\n",
        "2. (`c1`, `c2`, `c3`, `c4`, `c5`) are 5 small positive integers for the costs of (a, ?, *, ., +)\n",
        "3. `maxCost` parameter is an integer that sets an upper limit on the cost of the regular expression that the algorithm will search for. In most cases, you can use a reasonably large integer, such as 500, which is appropriate for our cost functions.\n",
        "\n",
        "For example, to run the first example of `type1` in our benchmarks, use the code below."
      ],
      "metadata": {
        "id": "CD6Vlla44DUo"
      }
    },
    {
      "cell_type": "code",
      "source": [
        "! ./cpu128 /content/paresy/benchmarks/type1/type1_exp1.txt 1 1 1 1 1 500"
      ],
      "metadata": {
        "id": "8Cs55PP04S72"
      },
      "execution_count": null,
      "outputs": []
    },
    {
      "cell_type": "markdown",
      "source": [
        "# <strong>Artifact</strong>\n",
        "\n",
        "This section provides you with the opportunity to replicate the results presented in our paper.\n",
        "\n",
        "**Important:** To achieve higher memory and performance, we recommend using `Colab Pro` (or `Pro+`). The `free version` of Colab may run codes much slower, which can significantly impact the results."
      ],
      "metadata": {
        "id": "1wAKy_z1SxU1"
      }
    },
    {
      "cell_type": "markdown",
      "source": [
        "**Note:** In the `content > paresy > code > exp_gen` directory, we have included a script that we used to generate random strings from both `type 1` and `type 2` categories. You can upload this notebook and use to generate additional test suites using different `seeds`. We have omitted further details to avoid making this notebook excessively large. For more information, please refer to `Section 4.3, Benchmark Construction`, in our paper.\n",
        "\n",
        "Now, before running a group of test suites, we recommend that you take a look at our benchmarks in the `content > paresy > benchmarks`.\n",
        "\n",
        "**Note:** As we mentioned before, to see the content in Colab, you can open the file explorer by clicking on the folder icon on the left side of the Colab notebook interface. You can navigate through the folders and subfolders to find the file you want to see.\n",
        "\n",
        "Our benchmarks are divided into two types of examples: `type1` and `type2` (the `alpha_regex` folder contains benchmarks for the CPU section). Each type has a different number of examples: `type1` has `200` examples, while `type2` has `230` examples."
      ],
      "metadata": {
        "id": "GhXcXU0Ev66K"
      }
    },
    {
      "cell_type": "markdown",
      "source": [
        "## <strong>Threats to Validity</strong>\n",
        "\n",
        "The virtualization of the GPU and CPU resources in Google Colab Pro is not fully transparent, which can potentially impact the reproducibility of measurements. The extent of virtualization can vary over time, which may introduce inconsistencies in performance results across different runs. For more information, please see `4.2 Threats to Validity` in the [paper](https://users.sussex.ac.uk/~mfb21/pldi23-draft-updated.pdf)."
      ],
      "metadata": {
        "id": "cMv9aN6Yk8rO"
      }
    },
    {
      "cell_type": "markdown",
      "source": [
        "## <strong>Figure 1</strong>\n",
        "\n",
        "In this section, we have rewritten the script to rebuild Figure 1. In our study, we executed our GPU code on all examples for all cost functions, and then filtered out any results that ran out of memory or time. Finally, we generated Figure 1 using the remaining data to demonstrate the impact of different cost functions on running times.\n",
        "\n",
        "Given that this process can take several hours, we have defined a parameter called \"step,\" which runs the code through the 0-th, step-th, 2*step-th, etc. examples in order to create a figure that is similar to the one presented in our paper, but in a shorter amount of time. You are welcome to adjust this parameter based on your time limitations.\n",
        "\n",
        "**Note:** We encountered several issues while using Google Colab Pro. For instance, after a specific time, it became exceedingly slow, even though we were using the premium version. Therefore, we attempted to halt the process, save the current data, reconnect to Colab, and then resume the process after a brief pause. Additionally, to ensure greater accuracy, we ran our code on all the examples three times, with each run shuffling the examples. We then averaged the final results to create `Figure 1`. Now, running a smaller portion of the examples (such as half of them, which should take around 45 minutes with A100 GPU) will hopefully produce a similar figure.\n",
        "\n",
        "Please run the following script."
      ],
      "metadata": {
        "id": "2hf3Y9vtxgRk"
      }
    },
    {
      "cell_type": "code",
      "source": [
        "import os\n",
        "import random\n",
        "import subprocess\n",
        "\n",
        "# Check if connected to GPU\n",
        "gpu_info = !nvidia-smi\n",
        "gpu_info = '\\n'.join(gpu_info)\n",
        "if gpu_info.find('failed') >= 0:\n",
        "    print('Not connected to a GPU')\n",
        "    print(\"At 'Runtime > Change runtime type', please choose `GPU` for `Hardware accelerator`\")\n",
        "else:\n",
        "    # recompiling the GPU version of PaRESy in its MEASUREMENT_MODE\n",
        "    print(\"Recompiling the code...\")\n",
        "    if not os.path.isdir(\"/content/paresy\"):\n",
        "        ! git clone https://github.com/MojtabaValizadeh/paresy.git\n",
        "    ! nvcc --extended-lambda -D MEASUREMENT_MODE -I /content/paresy/code/gpu_version/modified_libraries /content/paresy/code/gpu_version/gpu126.cu -o gpu126\n",
        "    print()\n",
        "\n",
        "    def runGPU(typ, exp_idx, costfun, maxCost, timeOut):\n",
        "\n",
        "        c1 = costfun[0]\n",
        "        c2 = costfun[1]\n",
        "        c3 = costfun[2]\n",
        "        c4 = costfun[3]\n",
        "        c5 = costfun[4]\n",
        "\n",
        "        if typ == \"type1\":\n",
        "            input = \"/content/paresy/benchmarks/type1/type1_exp\" + str(exp_idx) + \".txt\"\n",
        "        else:\n",
        "            input = \"/content/paresy/benchmarks/type2/type2_exp\" + str(exp_idx) + \".txt\"\n",
        "\n",
        "        try:\n",
        "            output = subprocess.run(\n",
        "                [\"./gpu126\",\n",
        "                input,\n",
        "                str(c1), str(c2), str(c3), str(c4), str(c5),\n",
        "                str(maxCost)],\n",
        "                stdout = subprocess.PIPE,\n",
        "                stderr = subprocess.PIPE,\n",
        "                timeout = timeOut\n",
        "            )\n",
        "            return(str(output.stdout).replace('\\\\n', '\\n')[1:])\n",
        "        except subprocess.TimeoutExpired:\n",
        "            return \"timeOut!\"\n",
        "\n",
        "    print(\"ready!\")"
      ],
      "metadata": {
        "id": "8pIAVag7xw6_"
      },
      "execution_count": null,
      "outputs": []
    },
    {
      "cell_type": "markdown",
      "source": [
        "After executing the code with all the examples, a figure will be generated at the end. We have incorporated a progress bar to help you track the process. The progress bar will move quickly for the easier examples and slower for the more complex ones. To proceed, please run the following script."
      ],
      "metadata": {
        "id": "KG73rdgJxz0H"
      }
    },
    {
      "cell_type": "code",
      "source": [
        "import numpy as np\n",
        "from tqdm import tqdm\n",
        "import matplotlib.cm as cm\n",
        "import matplotlib.pyplot as plt\n",
        "from matplotlib.pyplot import figure\n",
        "\n",
        "step = 2         # uses examples 0, step, 2*step, ... from x_axis. So, step = 1 means the full test\n",
        "maxCost = 500    # a reasonably large integer which has been used for our cost functions\n",
        "timeOut = 5      # time out in sec\n",
        "\n",
        "costFun = [\n",
        "    [1, 1, 1, 1, 1],\n",
        "    [10, 1, 1, 1, 1],\n",
        "    [1, 10, 1, 1, 1],\n",
        "    [1, 1, 10, 1, 1],\n",
        "    [1, 1, 1, 10, 1],\n",
        "    [1, 1, 1, 1, 10],\n",
        "    [1, 10, 10, 10, 10],\n",
        "    [10, 1, 10, 10, 10],\n",
        "    [10, 10, 1, 10, 10],\n",
        "    [10, 10, 10, 1, 10],\n",
        "    [10, 10, 10, 10, 1], \n",
        "    [20, 20, 20, 5, 30]\n",
        "]\n",
        "\n",
        "# Examples \"type_index\" in x axis of Figure 1\n",
        "x_axis = [\n",
        "    \"2_45\", \"1_162\", \"2_34\", \"2_3\", \"2_76\", \"2_59\", \"2_11\", \"1_152\", \"2_95\", \"2_142\", \"2_4\", \"2_48\", \"1_4\", \"2_19\", \"2_63\", \"2_26\", \"2_38\", \"2_1\",\n",
        "    \"1_5\", \"2_98\", \"1_155\", \"2_103\", \"2_69\", \"2_56\", \"1_100\", \"2_41\", \"1_89\", \"2_156\", \"1_67\", \"1_44\", \"2_29\", \"1_35\", \"2_152\", \"2_33\", \"1_98\",\n",
        "    \"2_21\", \"2_183\", \"1_102\", \"1_3\", \"2_14\", \"2_61\", \"2_137\", \"1_153\", \"1_87\", \"1_11\", \"1_21\", \"2_39\", \"1_6\", \"2_115\", \"2_60\", \"1_42\", \"1_134\",\n",
        "    \"1_52\", \"1_36\", \"1_58\", \"1_1\", \"2_102\", \"1_46\", \"2_36\", \"2_65\", \"1_81\", \"1_14\", \"2_24\", \"1_23\", \"1_154\", \"1_43\", \"1_118\", \"2_5\", \"2_35\", \"2_20\",\n",
        "    \"2_80\", \"2_16\", \"1_48\", \"2_13\", \"2_106\", \"2_9\", \"1_28\", \"1_19\", \"1_37\", \"2_17\", \"1_169\", \"1_24\", \"2_171\", \"2_7\", \"1_29\", \"2_31\", \"2_52\", \"1_101\",\n",
        "    \"1_13\", \"2_126\", \"1_95\", \"1_92\", \"1_39\", \"1_18\", \"2_194\", \"2_84\", \"2_57\", \"2_23\", \"2_8\", \"1_15\", \"2_2\", \"1_149\", \"1_10\", \"1_7\", \"2_96\", \"2_82\",\n",
        "    \"2_30\", \"1_84\", \"1_94\", \"2_162\", \"1_22\", \"2_27\", \"1_9\", \"2_10\", \"2_148\", \"1_119\", \"2_47\", \"1_131\", \"2_91\", \"1_90\", \"1_32\", \"1_8\", \"1_71\", \"2_75\",\n",
        "    \"1_17\", \"1_173\", \"2_6\", \"1_25\", \"1_59\", \"1_103\", \"2_49\", \"2_78\", \"1_112\", \"2_22\", \"1_60\", \"1_176\", \"2_79\", \"1_77\", \"2_62\", \"2_25\", \"2_42\", \"1_68\",\n",
        "    \"2_12\", \"2_15\", \"1_72\", \"2_120\", \"1_2\", \"1_80\", \"1_16\", \"1_12\", \"2_74\", \"2_87\", \"1_45\", \"2_40\", \"1_127\", \"2_44\", \"1_156\", \"1_38\", \"2_67\", \"2_71\",\n",
        "    \"2_37\", \"2_157\", \"2_43\", \"1_128\", \"1_199\", \"2_138\", \"2_169\", \"1_30\", \"1_123\", \"1_86\", \"2_99\", \"2_127\", \"1_53\", \"2_66\", \"1_64\", \"2_54\", \"1_76\",\n",
        "    \"2_28\", \"2_94\", \"2_155\", \"2_55\", \"1_105\", \"1_145\", \"1_136\", \"1_122\", \"2_141\", \"1_40\", \"2_46\", \"1_91\", \"2_135\", \"2_51\", \"2_64\", \"2_122\", \"1_120\",\n",
        "    \"1_114\", \"2_111\", \"2_117\", \"2_188\", \"1_110\", \"1_26\", \"1_133\", \"2_175\", \"1_27\", \"2_72\", \"2_121\", \"2_110\", \"2_130\", \"1_56\", \"2_18\", \"2_134\", \"1_83\",\n",
        "    \"1_135\", \"1_144\", \"2_32\", \"2_118\", \"2_50\", \"2_89\", \"1_54\", \"1_142\", \"2_77\", \"2_153\", \"2_70\", \"1_47\", \"2_92\", \"2_104\", \"1_113\", \"2_100\", \"1_187\",\n",
        "    \"1_125\", \"2_58\", \"1_129\", \"1_85\", \"1_143\", \"1_108\", \"1_63\", \"2_123\", \"1_168\", \"2_68\", \"1_34\", \"1_124\", \"1_104\", \"1_93\", \"1_170\", \"2_170\", \"1_147\",\n",
        "    \"2_200\", \"1_181\", \"2_132\", \"1_75\", \"1_31\", \"1_62\", \"2_128\", \"2_202\", \"1_167\", \"2_213\", \"2_97\", \"2_189\", \"2_124\", \"2_116\", \"1_55\", \"1_33\", \"1_188\",\n",
        "    \"1_141\", \"2_112\", \"2_146\", \"1_140\", \"1_163\", \"2_86\", \"1_41\", \"2_101\", \"2_90\", \"1_109\", \"2_217\", \"2_108\", \"2_165\", \"2_133\", \"2_174\", \"2_154\", \"1_97\",\n",
        "    \"2_85\", \"1_74\", \"2_161\", \"1_66\", \"1_126\", \"2_184\", \"2_81\", \"2_185\", \"1_51\", \"1_57\", \"1_69\", \"2_107\", \"1_158\", \"2_113\", \"1_193\", \"2_83\", \"2_150\", \"2_136\",\n",
        "    \"2_158\", \"1_49\", \"1_61\", \"1_73\", \"2_88\", \"1_50\", \"1_20\", \"2_164\", \"2_181\", \"2_196\", \"1_117\", \"1_180\", \"2_201\", \"1_121\", \"2_173\", \"1_161\", \"1_174\", \"1_65\",\n",
        "    \"1_150\", \"2_129\", \"1_116\", \"2_105\", \"1_106\", \"2_93\", \"2_205\", \"1_70\", \"2_140\", \"1_88\", \"1_111\", \"1_96\", \"2_177\", \"2_203\", \"2_125\", \"2_193\", \"1_164\", \"1_79\",\n",
        "    \"2_163\", \"2_53\", \"2_73\", \"1_179\", \"2_145\", \"1_107\", \"2_209\", \"1_151\", \"2_180\", \"1_184\", \"1_194\", \"1_132\", \"1_115\", \"1_137\", \"2_191\", \"2_139\", \"2_114\", \"2_187\"\n",
        "]\n",
        "\n",
        "data = []\n",
        "n = len(costFun)\n",
        "m = (len(x_axis)//step) if len(x_axis)%step == 0 else (len(x_axis)//step + 1)\n",
        "with tqdm(total = n * m) as pbar:\n",
        "    for cf in costFun:\n",
        "        lst = []\n",
        "        for i in range (0, len(x_axis), step):\n",
        "            typ, exp_idx = x_axis[i].split(\"_\")\n",
        "            output = runGPU(typ, exp_idx, cf, maxCost, timeOut)\n",
        "            if \"Running Time:\" in output and not \"not_found\" in output:\n",
        "                lst.append(float(output.split(\"Running Time: \")[1].split()[0]))\n",
        "            else:\n",
        "                lst.append(timeOut + 1)\n",
        "            pbar.update(1)\n",
        "            print(output)\n",
        "        data.append(lst)\n",
        "\n",
        "for i in range(len(data) - 1, -1, -1):\n",
        "    sorted_indices = sorted(range(len(data[0])), key=lambda x: data[i][x])\n",
        "    data = [[row[i] for i in sorted_indices] for row in data]\n",
        "\n",
        "xTicks = []\n",
        "for i in range (0, len(x_axis), step):\n",
        "    xTicks.append(x_axis[i])\n",
        "\n",
        "figure(figsize = (30, 15), dpi = 75)\n",
        "labels = [\"(\" + x + \")\" for x in [', '.join(map(str, cf)) for cf in costFun]]\n",
        "colours = cm.rainbow(np.linspace(0, 1, len(data)))\n",
        "\n",
        "for i in range(len(data) - 1, -1, -1):\n",
        "    plt.scatter(np.arange(len(data[i])), data[i], color = colours[i],\n",
        "        alpha = 1, marker = \"o\", label = labels[i], s = 200)\n",
        "\n",
        "plt.grid()\n",
        "plt.xticks(size = 10)\n",
        "plt.yticks(size = 20)\n",
        "plt.xticks(rotation = 90)\n",
        "plt.xlabel('Examples', fontsize = 20, labelpad = 50)\n",
        "plt.ylabel('Running Time (sec)', fontsize = 20, labelpad = 50)\n",
        "plt.xticks(np.arange(len(xTicks)), xTicks)\n",
        "plt.gca().set_ylim([0, timeOut])\n",
        "handles, labels = plt.gca().get_legend_handles_labels()\n",
        "plt.legend([handles[i] for i in range(11, -1, -1)], [labels[i] for i in range(11, -1, -1)], title = 'Cost Function', \n",
        "    title_fontsize = 0, loc = 'upper left',  bbox_to_anchor = (0.05, 0.99), prop = {'size': 15})\n",
        "\n",
        "plt.show()"
      ],
      "metadata": {
        "id": "gdjMJu0lx2e3"
      },
      "execution_count": null,
      "outputs": []
    },
    {
      "cell_type": "markdown",
      "source": [
        "## <strong>Table 1</strong>\n",
        "\n",
        "Running the `24 hardest examples` of `Table 1` should take a few minutes only on the GPU (while it might take 1-2 days on the CPU version in the next section). To simplify the evaluation process, we have provided the type, example number, and the cost functions used for each example in Table 1. "
      ],
      "metadata": {
        "id": "09wdJOS1zfDZ"
      }
    },
    {
      "cell_type": "markdown",
      "source": [
        "### <strong>GPU part of Table 1</strong>\n",
        "\n",
        "Please run the following code."
      ],
      "metadata": {
        "id": "WORfHHgWS_s6"
      }
    },
    {
      "cell_type": "code",
      "source": [
        "import os\n",
        "import subprocess\n",
        "\n",
        "# Check if connected to GPU\n",
        "gpu_info = !nvidia-smi\n",
        "gpu_info = '\\n'.join(gpu_info)\n",
        "if gpu_info.find('failed') >= 0:\n",
        "  print('Not connected to a GPU')\n",
        "  print(\"At 'Runtime > Change runtime type', please choose `GPU` for `Hardware accelerator`\")\n",
        "else:\n",
        "    # recompiling the GPU version of PaRESy in its MEASUREMENT_MODE\n",
        "    print(\"Recompiling the code...\")\n",
        "    if not os.path.isdir(\"/content/paresy\"):\n",
        "        ! git clone https://github.com/MojtabaValizadeh/paresy.git\n",
        "    ! nvcc --extended-lambda -D MEASUREMENT_MODE -I /content/paresy/code/gpu_version/modified_libraries /content/paresy/code/gpu_version/gpu126.cu -o gpu126\n",
        "    print()\n",
        "\n",
        "    def runGPU(typ, exp_idx, costfun, maxSize, timeOut):\n",
        "\n",
        "        c1 = costfun[0]\n",
        "        c2 = costfun[1]\n",
        "        c3 = costfun[2]\n",
        "        c4 = costfun[3]\n",
        "        c5 = costfun[4]\n",
        "\n",
        "        if typ == \"type1\":\n",
        "            input = \"/content/paresy/benchmarks/type1/type1_exp\" + str(exp_idx) + \".txt\"\n",
        "        else:\n",
        "            input = \"/content/paresy/benchmarks/type2/type2_exp\" + str(exp_idx) + \".txt\"\n",
        "\n",
        "        try:\n",
        "            output = subprocess.run(\n",
        "                [\"./gpu126\",\n",
        "                input,\n",
        "                str(c1), str(c2), str(c3), str(c4), str(c5),\n",
        "                str(maxSize)],\n",
        "                stdout = subprocess.PIPE,\n",
        "                stderr = subprocess.PIPE,\n",
        "                timeout = timeOut\n",
        "            )\n",
        "            return(str(output.stdout).replace('\\\\n', '\\n')[1:])\n",
        "        except subprocess.TimeoutExpired:\n",
        "            return \"timeOut!\"\n",
        "\n",
        "    # Table 1 which includes the 24 hardest test suite\n",
        "    hardestExps = [\n",
        "        [\"type1\", 50, [1, 1, 1, 1, 1]],\n",
        "        [\"type1\", 51, [10, 1, 1, 1, 1]],\n",
        "        [\"type1\", 73, [1, 10, 1, 1, 1]],\n",
        "        [\"type1\", 20, [1, 1, 10, 1, 1]],\n",
        "        [\"type1\", 73, [1, 1, 1, 10, 1]],\n",
        "        [\"type1\", 31, [1, 1, 1, 1, 10]],\n",
        "        [\"type1\", 57, [10, 10, 10, 10, 1]],\n",
        "        [\"type1\", 50, [10, 10, 10, 1, 10]],\n",
        "        [\"type1\", 57, [10, 10, 1, 10, 10]],\n",
        "        [\"type1\", 97, [10, 1, 10, 10, 10]],\n",
        "        [\"type1\", 61, [1, 10, 10, 10, 10]],\n",
        "        [\"type1\", 88, [20, 20, 20, 5, 30]],\n",
        "        [\"type2\", 88,  [1, 1, 1, 1, 1]],\n",
        "        [\"type2\", 150, [10, 1, 1, 1, 1]],\n",
        "        [\"type2\", 158, [1, 10, 1, 1, 1]],\n",
        "        [\"type2\", 136, [1, 1, 10, 1, 1]],\n",
        "        [\"type2\", 107, [1, 1, 1, 10, 1]],\n",
        "        [\"type2\", 32,  [1, 1, 1, 1, 10]],\n",
        "        [\"type2\", 136, [10, 10, 10, 10, 1]],\n",
        "        [\"type2\", 200, [10, 10, 10, 1, 10]],\n",
        "        [\"type2\", 107, [10, 10, 1, 10, 10]],\n",
        "        [\"type2\", 81,  [10, 1, 10, 10, 10]],\n",
        "        [\"type2\", 88,  [1, 10, 10, 10, 10]],\n",
        "        [\"type2\", 158, [20, 20, 20, 5, 30]]\n",
        "    ]\n",
        "\n",
        "    timeOut = 20\n",
        "    maxCost = 500 # a reasonably large integer which has been used for our cost functions\n",
        "\n",
        "    for hardExp in hardestExps:\n",
        "        print(str(hardExp[0]) + \", Exp \" + str(hardExp[1]) + \":\")\n",
        "        print(runGPU(hardExp[0], hardExp[1], hardExp[2], maxCost, timeOut))\n",
        "        print()\n",
        "\n",
        "    print(\"Done\")"
      ],
      "metadata": {
        "id": "90XkbbQIHybC"
      },
      "execution_count": null,
      "outputs": []
    },
    {
      "cell_type": "markdown",
      "source": [
        "### <strong>CPU part of Table 1</strong>\n",
        "\n",
        "Before the main proces, please run the code below.\n"
      ],
      "metadata": {
        "id": "Kvgvl9JHTOss"
      }
    },
    {
      "cell_type": "code",
      "source": [
        "import os\n",
        "import subprocess\n",
        "\n",
        "# recompiling the CPU version of PaRESy in its MEASUREMENT_MODE\n",
        "print(\"Recompiling the code...\")\n",
        "if not os.path.isdir(\"/content/paresy\"):\n",
        "    ! git clone https://github.com/MojtabaValizadeh/paresy.git\n",
        "! g++ -O3 -D MEASUREMENT_MODE /content/paresy/code/cpu_version/cpu128.cpp -o cpu128\n",
        "print()\n",
        "\n",
        "def runCPU(typ, exp_idx, costfun, maxSize, timeOut):\n",
        "\n",
        "    c1 = costfun[0]\n",
        "    c2 = costfun[1]\n",
        "    c3 = costfun[2]\n",
        "    c4 = costfun[3]\n",
        "    c5 = costfun[4]\n",
        "\n",
        "    input = \"/content/paresy/benchmarks/\"\n",
        "\n",
        "    if typ == \"type1\":\n",
        "        input += \"type1/type1_exp\"\n",
        "    elif typ == \"type2\":\n",
        "        input += \"type2/type2_exp\"\n",
        "    else:\n",
        "        input += \"alpha_regex/no\"\n",
        "\n",
        "    input += str(exp_idx) + \".txt\"\n",
        "\n",
        "    try:\n",
        "        output = subprocess.run(\n",
        "            [\"./cpu128\",\n",
        "            input,\n",
        "            str(c1), str(c2), str(c3), str(c4), str(c5),\n",
        "            str(maxSize)],\n",
        "            stdout = subprocess.PIPE,\n",
        "            stderr = subprocess.PIPE,\n",
        "            timeout = timeOut\n",
        "        )\n",
        "        return(str(output.stdout).replace('\\\\n', '\\n')[1:])\n",
        "    except subprocess.TimeoutExpired:\n",
        "        return \"timeOut!\"\n",
        "\n",
        "print (\"Ready\")"
      ],
      "metadata": {
        "id": "rV-UmAHuP6-5"
      },
      "execution_count": null,
      "outputs": []
    },
    {
      "cell_type": "markdown",
      "source": [
        "\n",
        "To evaluate the speed-up of the GPU version of our algorithm compared to the CPU version, in `Table 1`, we selected the hardest examples from our test suite that took the longest to execute on the GPU. The average running time for these 24 examples on the GPU was approximately 4.1 seconds. The GPU version is more than `1000` times faster than the CPU version, which means that it could take a long time (about 1-2 hours per example) to execute these examples on the CPU version. \n",
        "\n",
        "Therefore, we recommend using the simpler examples from our test suite to evaluate the CPU version of our algorithm. To facilitate this process, we have provided a script that executes the first few examples from `type1` using the CPU version. These examples are relatively easy in our experience and should only take a few minutes to run."
      ],
      "metadata": {
        "id": "kPJh9ennP3H2"
      }
    },
    {
      "cell_type": "code",
      "source": [
        "timeOut = 300\n",
        "maxCost = 500 # a reasonably large integer which has been used for our cost functions\n",
        "easierExps = [3, 4, 5, 6, 8] # the first 5 examples which were easier in our experience\n",
        "costFun = [1, 1, 1, 1, 1] # this cost function assignes equal probability to all the constructors\n",
        "\n",
        "# running the first few examples from `type1` through a normal cost function\n",
        "for expIdx in easierExps:\n",
        "    print(\"Type1, Exp \" + str(expIdx) + \":\")\n",
        "    print(runCPU(\"type1\", expIdx, costFun, maxCost, timeOut))\n",
        "    print()\n",
        "\n",
        "print(\"Done\")"
      ],
      "metadata": {
        "id": "3MgZBRPvVQio"
      },
      "execution_count": null,
      "outputs": []
    },
    {
      "cell_type": "markdown",
      "source": [
        "\n",
        "However, if you have enough time to execute a portion or all of the most challenging examples using the CPU version, we have provided a script for this purpose."
      ],
      "metadata": {
        "id": "fdmFkP4PVRb2"
      }
    },
    {
      "cell_type": "code",
      "source": [
        "# Important: Each example may require 1-2 hours to run on the CPU version.\n",
        "# You may remove items from the list if you wish.\n",
        "\n",
        "# Table 1 which includes the 24 hardest examples\n",
        "hardestExps = [\n",
        "    [\"type1\", 50, [1, 1, 1, 1, 1]],\n",
        "    [\"type1\", 51, [10, 1, 1, 1, 1]],\n",
        "    [\"type1\", 73, [1, 10, 1, 1, 1]],\n",
        "    [\"type1\", 20, [1, 1, 10, 1, 1]],\n",
        "    [\"type1\", 73, [1, 1, 1, 10, 1]],\n",
        "    [\"type1\", 31, [1, 1, 1, 1, 10]],\n",
        "    [\"type1\", 57, [10, 10, 10, 10, 1]],\n",
        "    [\"type1\", 50, [10, 10, 10, 1, 10]],\n",
        "    [\"type1\", 57, [10, 10, 1, 10, 10]],\n",
        "    [\"type1\", 97, [10, 1, 10, 10, 10]],\n",
        "    [\"type1\", 61, [1, 10, 10, 10, 10]],\n",
        "    [\"type1\", 88, [20, 20, 20, 5, 30]],\n",
        "    [\"type2\", 88,  [1, 1, 1, 1, 1]],\n",
        "    [\"type2\", 150, [10, 1, 1, 1, 1]],\n",
        "    [\"type2\", 158, [1, 10, 1, 1, 1]],\n",
        "    [\"type2\", 136, [1, 1, 10, 1, 1]],\n",
        "    [\"type2\", 107, [1, 1, 1, 10, 1]],\n",
        "    [\"type2\", 32,  [1, 1, 1, 1, 10]],\n",
        "    [\"type2\", 136, [10, 10, 10, 10, 1]],\n",
        "    [\"type2\", 200, [10, 10, 10, 1, 10]],\n",
        "    [\"type2\", 107, [10, 10, 1, 10, 10]],\n",
        "    [\"type2\", 81,  [10, 1, 10, 10, 10]],\n",
        "    [\"type2\", 88,  [1, 10, 10, 10, 10]],\n",
        "    [\"type2\", 158, [20, 20, 20, 5, 30]]\n",
        "]\n",
        "\n",
        "timeOut = 20000\n",
        "maxCost = 500 # a reasonably large integer which has been used for our cost functions\n",
        "\n",
        "for hardExp in hardestExps:\n",
        "    print(str(hardExp[0]) + \", Exp \" + str(hardExp[1]) + \":\")\n",
        "    print(runCPU(hardExp[0], hardExp[1], hardExp[2], maxCost, timeOut))\n",
        "    print()\n"
      ],
      "metadata": {
        "id": "EYcwkIDUOwxN"
      },
      "execution_count": null,
      "outputs": []
    },
    {
      "cell_type": "markdown",
      "source": [
        "## <strong>Table 2</strong>\n",
        "\n",
        "In `table 2`, we compare two codes:\n",
        "1. The CPU version of our algorithm `PaRESy`, implemented in `C++`\n",
        "2. AlphaRegex, a related work implemented in `Ocaml`\n",
        "\n",
        "To conduct this comparison, we utilized the whole `25 examples` that AlphaRegex employs in their research. The examples are located in `benchmark > alpha_regex` directory.\n",
        "\n",
        "**Note:** Since you are using a Colab notebook to execute both codes, please anticipate longer latency in the running times.\n",
        "\n",
        "Prior to assessing the codes against the benchmarks, please execute the following script."
      ],
      "metadata": {
        "id": "Cnmva-JNQT0t"
      }
    },
    {
      "cell_type": "code",
      "source": [
        "import os\n",
        "import subprocess\n",
        "\n",
        "# recompiling the CPU version of PaRESy\n",
        "print(\"Recompiling the code...\")\n",
        "if not os.path.isdir(\"/content/paresy\"):\n",
        "    ! git clone https://github.com/MojtabaValizadeh/paresy.git\n",
        "! g++ -O3 /content/paresy/code/cpu_version/cpu128.cpp -o cpu128\n",
        "print()\n",
        "\n",
        "def runCPU(typ, exp_idx, costfun, maxSize, timeOut):\n",
        "\n",
        "    c1 = costfun[0]\n",
        "    c2 = costfun[1]\n",
        "    c3 = costfun[2]\n",
        "    c4 = costfun[3]\n",
        "    c5 = costfun[4]\n",
        "\n",
        "    input = \"/content/paresy/benchmarks/\"\n",
        "\n",
        "    if typ == \"type1\":\n",
        "        input += \"type1/type1_exp\"\n",
        "    elif typ == \"type2\":\n",
        "        input += \"type2/type2_exp\"\n",
        "    else:\n",
        "        input += \"alpha_regex/no\"\n",
        "\n",
        "    input += str(exp_idx) + \".txt\"\n",
        "\n",
        "    try:\n",
        "        output = subprocess.run(\n",
        "            [\"./cpu128\",\n",
        "            input,\n",
        "            str(c1), str(c2), str(c3), str(c4), str(c5),\n",
        "            str(maxSize)],\n",
        "            stdout = subprocess.PIPE,\n",
        "            stderr = subprocess.PIPE,\n",
        "            timeout = timeOut\n",
        "        )\n",
        "        return(str(output.stdout).replace('\\\\n', '\\n')[1:])\n",
        "    except subprocess.TimeoutExpired:\n",
        "        return \"timeOut!\"\n",
        "\n",
        "print (\"Ready\")"
      ],
      "metadata": {
        "id": "hb6OsoqJ5xNk"
      },
      "execution_count": null,
      "outputs": []
    },
    {
      "cell_type": "markdown",
      "source": [
        "Kindly take note that in our related work, AlphaRegex, uses a hard-coded cost function in their code with values of (`20`, `20`, `20`, `5`, `30`) assigned to (a, ?, *, ., +). Consequently, we will utilize their cost function for all these benchmarks.\n",
        "\n",
        "To execute our algorithm's CPU version against `25 examples` from the AlphaRegex benchmarks, please run the following script."
      ],
      "metadata": {
        "id": "02dcXYLeLCQ1"
      }
    },
    {
      "cell_type": "code",
      "source": [
        "timeOut = 200\n",
        "ARcostFun = [20, 20, 20, 5, 30]\n",
        "maxCost = 500 # a reasonably large integer which has been used for our cost functions\n",
        "\n",
        "for exp_idx in range(1, 26):\n",
        "    print(\"AlphaRegex benchmarks, no\" + str(exp_idx) + \":\")\n",
        "    print(runCPU(\"alpharegex\", exp_idx, ARcostFun, maxCost, timeOut))\n",
        "    print()"
      ],
      "metadata": {
        "id": "JSJ19SgUEws7"
      },
      "execution_count": null,
      "outputs": []
    },
    {
      "cell_type": "markdown",
      "source": [
        "# <strong>More Info</strong>\n",
        "\n",
        "If you need further information, please refer to our [paper](https://users.sussex.ac.uk/~mfb21/pldi23-draft-updated.pdf) or feel free to contact the authors directly."
      ],
      "metadata": {
        "id": "XQSUIP_hQ22t"
      }
    }
  ]
}